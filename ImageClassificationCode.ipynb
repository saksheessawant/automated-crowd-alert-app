{
 "cells": [
  {
   "cell_type": "code",
   "execution_count": null,
   "metadata": {
    "colab": {},
    "colab_type": "code",
    "id": "bKjHZPgh7Aaa"
   },
   "outputs": [],
   "source": [
    "from keras.models import Sequential\n",
    "from keras.layers import Convolution2D\n",
    "from keras.layers import MaxPooling2D\n",
    "from keras.layers import Flatten\n",
    "from keras.layers import Dense\n",
    "from keras.layers import Dropout\n",
    "!apt install unzip\n",
    "from sklearn.linear_model import LogisticRegression\n",
    "from sklearn.metrics import confusion_matrix\n",
    "import sklearn.metrics as metrics"
   ]
  },
  {
   "cell_type": "code",
   "execution_count": null,
   "metadata": {
    "colab": {},
    "colab_type": "code",
    "id": "GpzppDFyA_qy"
   },
   "outputs": [],
   "source": [
    "from google.colab import drive\n",
    "drive.mount('/content/gdrive')"
   ]
  },
  {
   "cell_type": "code",
   "execution_count": null,
   "metadata": {
    "colab": {},
    "colab_type": "code",
    "id": "DMHWfqu-HSRV"
   },
   "outputs": [],
   "source": [
    "!unzip -q \"/content/gdrive/My Drive/NewD/Dataset.zip\""
   ]
  },
  {
   "cell_type": "code",
   "execution_count": null,
   "metadata": {
    "colab": {},
    "colab_type": "code",
    "id": "HKzmlcKSFQVY"
   },
   "outputs": [],
   "source": [
    "from keras.models import load_model\n",
    "classifier = load_model('/content/BUS3.h5')"
   ]
  },
  {
   "cell_type": "code",
   "execution_count": null,
   "metadata": {
    "colab": {},
    "colab_type": "code",
    "id": "yoX_9BYXPYpB"
   },
   "outputs": [],
   "source": [
    "classifier = Sequential()\n"
   ]
  },
  {
   "cell_type": "code",
   "execution_count": null,
   "metadata": {
    "colab": {},
    "colab_type": "code",
    "id": "8oS-pbndPdWH"
   },
   "outputs": [],
   "source": [
    "classifier.add(Convolution2D(32, 3, 3, input_shape = (64, 64, 3), activation = 'relu'))\n",
    "classifier.add(MaxPooling2D(pool_size = (2, 2)))\n",
    "classifier.add(Convolution2D(32, 3, 3, activation = 'relu'))\n",
    "classifier.add(MaxPooling2D(pool_size = (2, 2)))\n",
    "classifier.add(Flatten())\n",
    "classifier.add(Dense(output_dim = 128, activation = 'relu'))\n",
    "classifier.add(Dense(output_dim = 5, activation = 'sigmoid'))"
   ]
  },
  {
   "cell_type": "code",
   "execution_count": null,
   "metadata": {
    "colab": {},
    "colab_type": "code",
    "id": "lpFuFEzZPx6X"
   },
   "outputs": [],
   "source": [
    "classifier.compile(optimizer = 'adam', loss = 'categorical_crossentropy', metrics = ['accuracy'])"
   ]
  },
  {
   "cell_type": "code",
   "execution_count": null,
   "metadata": {
    "colab": {},
    "colab_type": "code",
    "id": "mdiv8CUvP2XP"
   },
   "outputs": [],
   "source": [
    "from keras.preprocessing.image import ImageDataGenerator"
   ]
  },
  {
   "cell_type": "code",
   "execution_count": null,
   "metadata": {
    "colab": {},
    "colab_type": "code",
    "id": "TLloyl24P7hR"
   },
   "outputs": [],
   "source": [
    "train_datagen = ImageDataGenerator(rescale = 1./255,\n",
    "                                   shear_range = 0.2,\n",
    "                                   zoom_range = 0.2,\n",
    "                                   horizontal_flip = True)\n",
    "\n",
    "test_datagen = ImageDataGenerator(rescale = 1./255)"
   ]
  },
  {
   "cell_type": "code",
   "execution_count": null,
   "metadata": {
    "colab": {},
    "colab_type": "code",
    "id": "DsMzt7aYP_8z"
   },
   "outputs": [],
   "source": [
    "training_set = train_datagen.flow_from_directory('/content/Dataset/Train',\n",
    "                                                 target_size = (64, 64),\n",
    "                                                 batch_size = 32,\n",
    "                                                 class_mode = 'categorical')"
   ]
  },
  {
   "cell_type": "code",
   "execution_count": null,
   "metadata": {
    "colab": {},
    "colab_type": "code",
    "id": "HXdrHJSuQvFL"
   },
   "outputs": [],
   "source": [
    "test_set = test_datagen.flow_from_directory('/content/Dataset/Test',\n",
    "                                            target_size = (64, 64),\n",
    "                                            batch_size = 32,\n",
    "                                            class_mode = 'categorical')"
   ]
  },
  {
   "cell_type": "code",
   "execution_count": null,
   "metadata": {
    "colab": {
     "base_uri": "https://localhost:8080/",
     "height": 297
    },
    "colab_type": "code",
    "executionInfo": {
     "elapsed": 180457,
     "status": "ok",
     "timestamp": 1582560055928,
     "user": {
      "displayName": "MEGHANA ACHANTA",
      "photoUrl": "",
      "userId": "02949665257167268741"
     },
     "user_tz": -330
    },
    "id": "VSPX7gn0Q3RR",
    "outputId": "edae2e34-c198-41d5-f272-2c344d9a8082"
   },
   "outputs": [
    {
     "name": "stderr",
     "output_type": "stream",
     "text": [
      "/usr/local/lib/python3.6/dist-packages/ipykernel_launcher.py:5: UserWarning: The semantics of the Keras 2 argument `steps_per_epoch` is not the same as the Keras 1 argument `samples_per_epoch`. `steps_per_epoch` is the number of batches to draw from the generator at each epoch. Basically steps_per_epoch = samples_per_epoch/batch_size. Similarly `nb_val_samples`->`validation_steps` and `val_samples`->`steps` arguments have changed. Update your method calls accordingly.\n",
      "  \"\"\"\n",
      "/usr/local/lib/python3.6/dist-packages/ipykernel_launcher.py:5: UserWarning: Update your `fit_generator` call to the Keras 2 API: `fit_generator(<keras_pre..., validation_data=<keras_pre..., steps_per_epoch=140, epochs=5, validation_steps=1500)`\n",
      "  \"\"\"\n"
     ]
    },
    {
     "name": "stdout",
     "output_type": "stream",
     "text": [
      "Epoch 1/5\n",
      "140/140 [==============================] - 1173s 8s/step - loss: 0.3991 - acc: 0.8502 - val_loss: 0.8438 - val_acc: 0.8035\n",
      "Epoch 2/5\n",
      "140/140 [==============================] - 1166s 8s/step - loss: 0.0507 - acc: 0.9839 - val_loss: 0.5152 - val_acc: 0.8479\n",
      "Epoch 3/5\n",
      "140/140 [==============================] - 1169s 8s/step - loss: 0.0263 - acc: 0.9924 - val_loss: 0.9861 - val_acc: 0.8655\n",
      "Epoch 4/5\n",
      "140/140 [==============================] - 1168s 8s/step - loss: 0.0070 - acc: 0.9984 - val_loss: 0.8695 - val_acc: 0.9252\n",
      "Epoch 5/5\n",
      "140/140 [==============================] - 1173s 8s/step - loss: 0.0087 - acc: 0.9978 - val_loss: 0.3460 - val_acc: 0.9309\n"
     ]
    },
    {
     "data": {
      "text/plain": [
       "<keras.callbacks.History at 0x7fc5239a3b70>"
      ]
     },
     "execution_count": 24,
     "metadata": {
      "tags": []
     },
     "output_type": "execute_result"
    }
   ],
   "source": [
    "classifier.fit_generator(training_set,\n",
    "                         samples_per_epoch = 4500,\n",
    "                         nb_epoch = 5,\n",
    "                         validation_data = test_set,\n",
    "                         nb_val_samples = 1500)"
   ]
  },
  {
   "cell_type": "markdown",
   "metadata": {
    "colab_type": "text",
    "id": "Fsg_-Laff5Yo"
   },
   "source": []
  },
  {
   "cell_type": "code",
   "execution_count": null,
   "metadata": {
    "colab": {},
    "colab_type": "code",
    "id": "X-N1dehqFkM-"
   },
   "outputs": [],
   "source": [
    "from keras.models import load_model\n",
    "classifier.save('BUS3.h5')\n",
    "classifier.save_weights('BUS3Weight3.h5')"
   ]
  },
  {
   "cell_type": "code",
   "execution_count": null,
   "metadata": {
    "colab": {
     "base_uri": "https://localhost:8080/",
     "height": 35
    },
    "colab_type": "code",
    "executionInfo": {
     "elapsed": 10901,
     "status": "ok",
     "timestamp": 1583814634021,
     "user": {
      "displayName": "MEGHANA ACHANTA",
      "photoUrl": "",
      "userId": "02949665257167268741"
     },
     "user_tz": -330
    },
    "id": "rhq6koBSO3dS",
    "outputId": "4bedb508-16f5-4b54-badf-c196a84357cf"
   },
   "outputs": [
    {
     "name": "stdout",
     "output_type": "stream",
     "text": [
      "Very High\n"
     ]
    }
   ],
   "source": [
    "import numpy as np\n",
    "from google.colab import files\n",
    "from keras.preprocessing import image\n",
    "import cv2\n",
    "\n",
    "test_image = image.load_img('/content/gdrive/My Drive/BE_Project/dataset/Testimage.jpg', target_size = (64,64))\n",
    "x = image.img_to_array(test_image)\n",
    "x = np.expand_dims(x, axis=0)\n",
    "\n",
    "images = np.vstack([x])\n",
    "classes = classifier.predict(images, batch_size=32)\n",
    "  \n",
    "  ##cv2.imshow(fn)\n",
    "  #print(max(classes))\n",
    "Labels=['High','Low','Moderate','Very High','Very Low']   ### please write your classes names\n",
    "index=np.argmax(classes)\n",
    "print(Labels[index])"
   ]
  },
  {
   "cell_type": "code",
   "execution_count": null,
   "metadata": {
    "colab": {},
    "colab_type": "code",
    "id": "9Wn-EWi-_vjR"
   },
   "outputs": [],
   "source": [
    "!pip install requests\n",
    "!pip install python-firebase"
   ]
  },
  {
   "cell_type": "code",
   "execution_count": null,
   "metadata": {
    "colab": {},
    "colab_type": "code",
    "id": "I8E9q7sYA6_X"
   },
   "outputs": [],
   "source": [
    "from firebase import firebase\n",
    "\n",
    "firebase=firebase.FirebaseApplication('https://sampleproj-1dada.firebaseio.com/')\n",
    "\n",
    "#result=firebase.patch('/user',{'new':prediction})\n",
    "result=firebase.get('/user/new',None)\n",
    "print (result)"
   ]
  }
 ],
 "metadata": {
  "accelerator": "GPU",
  "colab": {
   "collapsed_sections": [],
   "name": "ImageClassificationCode.ipynb",
   "provenance": [],
   "toc_visible": true
  },
  "kernelspec": {
   "display_name": "Python 3",
   "language": "python",
   "name": "python3"
  },
  "language_info": {
   "codemirror_mode": {
    "name": "ipython",
    "version": 3
   },
   "file_extension": ".py",
   "mimetype": "text/x-python",
   "name": "python",
   "nbconvert_exporter": "python",
   "pygments_lexer": "ipython3",
   "version": "3.9.4"
  }
 },
 "nbformat": 4,
 "nbformat_minor": 1
}
